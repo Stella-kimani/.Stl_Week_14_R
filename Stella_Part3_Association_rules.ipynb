{
  "nbformat": 4,
  "nbformat_minor": 0,
  "metadata": {
    "colab": {
      "name": "Stella_Part3_Association_rules",
      "provenance": [],
      "collapsed_sections": [],
      "include_colab_link": true
    },
    "kernelspec": {
      "name": "ir",
      "display_name": "R"
    }
  },
  "cells": [
    {
      "cell_type": "markdown",
      "metadata": {
        "id": "view-in-github",
        "colab_type": "text"
      },
      "source": [
        "<a href=\"https://colab.research.google.com/github/Stella-kimani/.Stl_Week_14_R/blob/master/Stella_Part3_Association_rules.ipynb\" target=\"_parent\"><img src=\"https://colab.research.google.com/assets/colab-badge.svg\" alt=\"Open In Colab\"/></a>"
      ]
    },
    {
      "cell_type": "markdown",
      "metadata": {
        "id": "5woy42EOw-pA",
        "colab_type": "text"
      },
      "source": [
        "# Association Rules\n",
        "\n",
        "Task:\n",
        "\n",
        "The task is to create association rules that will allow me to identify relationships between variables in the supermarket sales dataset.\n",
        "\n",
        "I will then provide insights based on my findings."
      ]
    },
    {
      "cell_type": "code",
      "metadata": {
        "id": "rwlIvUxEq9hE",
        "colab_type": "code",
        "colab": {
          "base_uri": "https://localhost:8080/",
          "height": 69
        },
        "outputId": "c05640c3-5531-429a-cf61-7427e7ba168d"
      },
      "source": [
        "# loading the arules library\n",
        "install.packages(\"arules\")"
      ],
      "execution_count": 1,
      "outputs": [
        {
          "output_type": "stream",
          "text": [
            "Installing package into ‘/usr/local/lib/R/site-library’\n",
            "(as ‘lib’ is unspecified)\n",
            "\n"
          ],
          "name": "stderr"
        }
      ]
    },
    {
      "cell_type": "code",
      "metadata": {
        "id": "V6dKVEZmyff_",
        "colab_type": "code",
        "colab": {
          "base_uri": "https://localhost:8080/",
          "height": 104
        },
        "outputId": "a5790527-19c1-4e5e-a38f-0c65b222c6c9"
      },
      "source": [
        "# Loading our dataset\n",
        "library(arules)\n",
        "df1= read.transactions(\"/content/Supermarket_Sales_Dataset II.csv\", \n",
        "                  header = FALSE, sep = \"\", \n",
        "                  cols = NULL, rm.duplicates = FALSE, \n",
        "                  quote = \"\\\"'\", skip = 0, \n",
        "                  encoding = \"unknown\")\n",
        "head(df1)\n",
        "\n"
      ],
      "execution_count": 5,
      "outputs": [
        {
          "output_type": "stream",
          "text": [
            "Warning message in asMethod(object):\n",
            "“removing duplicated items in transactions”\n"
          ],
          "name": "stderr"
        },
        {
          "output_type": "display_data",
          "data": {
            "text/plain": [
              "transactions in sparse format with\n",
              " 6 transactions (rows) and\n",
              " 5729 items (columns)"
            ]
          },
          "metadata": {
            "tags": []
          }
        }
      ]
    },
    {
      "cell_type": "code",
      "metadata": {
        "id": "YY26Roq67KPx",
        "colab_type": "code",
        "colab": {
          "base_uri": "https://localhost:8080/",
          "height": 329
        },
        "outputId": "4decf97d-9ec7-4e5c-af8c-a9a6ad471b3a"
      },
      "source": [
        "# inspecting the first 3 transactions\n",
        "inspect(df1[1:3])"
      ],
      "execution_count": 6,
      "outputs": [
        {
          "output_type": "stream",
          "text": [
            "    items                              \n",
            "[1] {cheese,energy,                    \n",
            "     drink,tomato,                     \n",
            "     fat,                              \n",
            "     flour,yams,cottage,               \n",
            "     grapes,whole,                     \n",
            "     juice,frozen,                     \n",
            "     juice,low,                        \n",
            "     mix,green,                        \n",
            "     oil,                              \n",
            "     shrimp,almonds,avocado,vegetables,\n",
            "     smoothie,spinach,olive,           \n",
            "     tea,honey,salad,mineral,          \n",
            "     water,salmon,antioxydant,         \n",
            "     weat,                             \n",
            "     yogurt,green}                     \n",
            "[2] {burgers,meatballs,eggs}           \n",
            "[3] {chutney}                          \n"
          ],
          "name": "stdout"
        }
      ]
    },
    {
      "cell_type": "code",
      "metadata": {
        "id": "NcppKIR8uhJb",
        "colab_type": "code",
        "colab": {
          "base_uri": "https://localhost:8080/",
          "height": 35
        },
        "outputId": "3e28663a-f2c6-483c-a981-be8cb2a18d28"
      },
      "source": [
        "# Verifying the object's class\n",
        "# ---\n",
        "# This should show us transactions as the type of data that we will need\n",
        "# ---\n",
        "# \n",
        "class(df1)"
      ],
      "execution_count": 7,
      "outputs": [
        {
          "output_type": "display_data",
          "data": {
            "text/plain": [
              "[1] \"transactions\"\n",
              "attr(,\"package\")\n",
              "[1] \"arules\""
            ],
            "text/latex": "'transactions'",
            "text/markdown": "'transactions'",
            "text/html": [
              "'transactions'"
            ]
          },
          "metadata": {
            "tags": []
          }
        }
      ]
    },
    {
      "cell_type": "code",
      "metadata": {
        "id": "b3AsVBreuugb",
        "colab_type": "code",
        "colab": {
          "base_uri": "https://localhost:8080/",
          "height": 243
        },
        "outputId": "c7857b0d-f811-40a3-acb5-7d523d52e7d9"
      },
      "source": [
        " #Let me create a  dataframe and preview the items that make up our dataset,\n",
        "\n",
        "items<-as.data.frame(itemLabels(df1))\n",
        "colnames(items) <- \"Item\"\n",
        "head(items, 8) "
      ],
      "execution_count": 8,
      "outputs": [
        {
          "output_type": "display_data",
          "data": {
            "text/plain": [
              "  Item                                  \n",
              "1 &                                     \n",
              "2 accessories                           \n",
              "3 accessories,antioxydant               \n",
              "4 accessories,champagne,fresh           \n",
              "5 accessories,champagne,protein         \n",
              "6 accessories,chocolate                 \n",
              "7 accessories,chocolate,champagne,frozen\n",
              "8 accessories,chocolate,frozen          "
            ],
            "text/latex": "A data.frame: 8 × 1\n\\begin{tabular}{r|l}\n  & Item\\\\\n  & <fct>\\\\\n\\hline\n\t1 & \\&                                     \\\\\n\t2 & accessories                           \\\\\n\t3 & accessories,antioxydant               \\\\\n\t4 & accessories,champagne,fresh           \\\\\n\t5 & accessories,champagne,protein         \\\\\n\t6 & accessories,chocolate                 \\\\\n\t7 & accessories,chocolate,champagne,frozen\\\\\n\t8 & accessories,chocolate,frozen          \\\\\n\\end{tabular}\n",
            "text/markdown": "\nA data.frame: 8 × 1\n\n| <!--/--> | Item &lt;fct&gt; |\n|---|---|\n| 1 | &amp;                                      |\n| 2 | accessories                            |\n| 3 | accessories,antioxydant                |\n| 4 | accessories,champagne,fresh            |\n| 5 | accessories,champagne,protein          |\n| 6 | accessories,chocolate                  |\n| 7 | accessories,chocolate,champagne,frozen |\n| 8 | accessories,chocolate,frozen           |\n\n",
            "text/html": [
              "<table>\n",
              "<caption>A data.frame: 8 × 1</caption>\n",
              "<thead>\n",
              "\t<tr><th></th><th scope=col>Item</th></tr>\n",
              "\t<tr><th></th><th scope=col>&lt;fct&gt;</th></tr>\n",
              "</thead>\n",
              "<tbody>\n",
              "\t<tr><th scope=row>1</th><td><span style=white-space:pre-wrap>&amp;                                     </span></td></tr>\n",
              "\t<tr><th scope=row>2</th><td>accessories                           </td></tr>\n",
              "\t<tr><th scope=row>3</th><td>accessories,antioxydant               </td></tr>\n",
              "\t<tr><th scope=row>4</th><td>accessories,champagne,fresh           </td></tr>\n",
              "\t<tr><th scope=row>5</th><td>accessories,champagne,protein         </td></tr>\n",
              "\t<tr><th scope=row>6</th><td>accessories,chocolate                 </td></tr>\n",
              "\t<tr><th scope=row>7</th><td>accessories,chocolate,champagne,frozen</td></tr>\n",
              "\t<tr><th scope=row>8</th><td>accessories,chocolate,frozen          </td></tr>\n",
              "</tbody>\n",
              "</table>\n"
            ]
          },
          "metadata": {
            "tags": []
          }
        }
      ]
    },
    {
      "cell_type": "code",
      "metadata": {
        "id": "iq5PiVzVuZxT",
        "colab_type": "code",
        "colab": {
          "base_uri": "https://localhost:8080/",
          "height": 381
        },
        "outputId": "a687fbba-82fa-4886-e817-5e311ec89fad"
      },
      "source": [
        "# summary of the dataset\n",
        "summary(df1)"
      ],
      "execution_count": 9,
      "outputs": [
        {
          "output_type": "display_data",
          "data": {
            "text/plain": [
              "transactions as itemMatrix in sparse format with\n",
              " 7501 rows (elements/itemsets/transactions) and\n",
              " 5729 columns (items) and a density of 0.0005421748 \n",
              "\n",
              "most frequent items:\n",
              "    tea   wheat mineral     fat  yogurt (Other) \n",
              "    803     645     577     574     543   20157 \n",
              "\n",
              "element (itemset/transaction) length distribution:\n",
              "sizes\n",
              "   1    2    3    4    5    6    7    8    9   10   11   12   13   15   16 \n",
              "1603 2007 1382  942  651  407  228  151   70   39   13    5    1    1    1 \n",
              "\n",
              "   Min. 1st Qu.  Median    Mean 3rd Qu.    Max. \n",
              "  1.000   2.000   3.000   3.106   4.000  16.000 \n",
              "\n",
              "includes extended item information - examples:\n",
              "                   labels\n",
              "1                       &\n",
              "2             accessories\n",
              "3 accessories,antioxydant"
            ]
          },
          "metadata": {
            "tags": []
          }
        }
      ]
    },
    {
      "cell_type": "markdown",
      "metadata": {
        "id": "vwCEAly0u9b3",
        "colab_type": "text"
      },
      "source": [
        "This  gives us some information such as the most purchased items which is mineral water, spaghetti, eggs, burgers and chocolates.We are able to see the distribution of the item sets, number of items purchased in each transaction."
      ]
    },
    {
      "cell_type": "code",
      "metadata": {
        "id": "iG_iog9puZ7I",
        "colab_type": "code",
        "colab": {
          "base_uri": "https://localhost:8080/",
          "height": 87
        },
        "outputId": "2d81ecd5-773c-4bcc-c167-65227c7d51a0"
      },
      "source": [
        "#Exploring the frequency of some articles \n",
        "# i.e. transacations ranging from 8 to 15 and performing \n",
        "# some operation in percentage terms of the total transactions \n",
        "# \n",
        "itemFrequency(df1[, 8:15],type = \"absolute\")\n",
        "round(itemFrequency(df1[, 8:15],type = \"relative\")*100,2)"
      ],
      "execution_count": 10,
      "outputs": [
        {
          "output_type": "display_data",
          "data": {
            "text/plain": [
              "    accessories,chocolate,frozen        accessories,chocolate,low \n",
              "                               1                                1 \n",
              "accessories,chocolate,pasta,salt accessories,chocolate,salt,green \n",
              "                               1                                1 \n",
              "             accessories,cookies              accessories,cottage \n",
              "                               5                                2 \n",
              "            accessories,escalope               accessories,french \n",
              "                               1                               13 "
            ],
            "text/latex": "\\begin{description*}\n\\item[accessories,chocolate,frozen] 1\n\\item[accessories,chocolate,low] 1\n\\item[accessories,chocolate,pasta,salt] 1\n\\item[accessories,chocolate,salt,green] 1\n\\item[accessories,cookies] 5\n\\item[accessories,cottage] 2\n\\item[accessories,escalope] 1\n\\item[accessories,french] 13\n\\end{description*}\n",
            "text/markdown": "accessories,chocolate,frozen\n:   1accessories,chocolate,low\n:   1accessories,chocolate,pasta,salt\n:   1accessories,chocolate,salt,green\n:   1accessories,cookies\n:   5accessories,cottage\n:   2accessories,escalope\n:   1accessories,french\n:   13\n\n",
            "text/html": [
              "<style>\n",
              ".dl-inline {width: auto; margin:0; padding: 0}\n",
              ".dl-inline>dt, .dl-inline>dd {float: none; width: auto; display: inline-block}\n",
              ".dl-inline>dt::after {content: \":\\0020\"; padding-right: .5ex}\n",
              ".dl-inline>dt:not(:first-of-type) {padding-left: .5ex}\n",
              "</style><dl class=dl-inline><dt>accessories,chocolate,frozen</dt><dd>1</dd><dt>accessories,chocolate,low</dt><dd>1</dd><dt>accessories,chocolate,pasta,salt</dt><dd>1</dd><dt>accessories,chocolate,salt,green</dt><dd>1</dd><dt>accessories,cookies</dt><dd>5</dd><dt>accessories,cottage</dt><dd>2</dd><dt>accessories,escalope</dt><dd>1</dd><dt>accessories,french</dt><dd>13</dd></dl>\n"
            ]
          },
          "metadata": {
            "tags": []
          }
        },
        {
          "output_type": "display_data",
          "data": {
            "text/plain": [
              "    accessories,chocolate,frozen        accessories,chocolate,low \n",
              "                            0.01                             0.01 \n",
              "accessories,chocolate,pasta,salt accessories,chocolate,salt,green \n",
              "                            0.01                             0.01 \n",
              "             accessories,cookies              accessories,cottage \n",
              "                            0.07                             0.03 \n",
              "            accessories,escalope               accessories,french \n",
              "                            0.01                             0.17 "
            ],
            "text/latex": "\\begin{description*}\n\\item[accessories,chocolate,frozen] 0.01\n\\item[accessories,chocolate,low] 0.01\n\\item[accessories,chocolate,pasta,salt] 0.01\n\\item[accessories,chocolate,salt,green] 0.01\n\\item[accessories,cookies] 0.07\n\\item[accessories,cottage] 0.03\n\\item[accessories,escalope] 0.01\n\\item[accessories,french] 0.17\n\\end{description*}\n",
            "text/markdown": "accessories,chocolate,frozen\n:   0.01accessories,chocolate,low\n:   0.01accessories,chocolate,pasta,salt\n:   0.01accessories,chocolate,salt,green\n:   0.01accessories,cookies\n:   0.07accessories,cottage\n:   0.03accessories,escalope\n:   0.01accessories,french\n:   0.17\n\n",
            "text/html": [
              "<style>\n",
              ".dl-inline {width: auto; margin:0; padding: 0}\n",
              ".dl-inline>dt, .dl-inline>dd {float: none; width: auto; display: inline-block}\n",
              ".dl-inline>dt::after {content: \":\\0020\"; padding-right: .5ex}\n",
              ".dl-inline>dt:not(:first-of-type) {padding-left: .5ex}\n",
              "</style><dl class=dl-inline><dt>accessories,chocolate,frozen</dt><dd>0.01</dd><dt>accessories,chocolate,low</dt><dd>0.01</dd><dt>accessories,chocolate,pasta,salt</dt><dd>0.01</dd><dt>accessories,chocolate,salt,green</dt><dd>0.01</dd><dt>accessories,cookies</dt><dd>0.07</dd><dt>accessories,cottage</dt><dd>0.03</dd><dt>accessories,escalope</dt><dd>0.01</dd><dt>accessories,french</dt><dd>0.17</dd></dl>\n"
            ]
          },
          "metadata": {
            "tags": []
          }
        }
      ]
    },
    {
      "cell_type": "code",
      "metadata": {
        "id": "eMj5Du9YuZ-g",
        "colab_type": "code",
        "colab": {
          "base_uri": "https://localhost:8080/",
          "height": 437
        },
        "outputId": "8ab8b1dd-e00b-4048-be37-a2d600b997b9"
      },
      "source": [
        "\n",
        "# Displaying top 7 most common items in the transactions dataset \n",
        "# and the items whose relative importance is at least 10%\n",
        "# \n",
        "par(mfrow = c(1, 2))\n",
        "# plot the frequency of items\n",
        "itemFrequencyPlot(df1, topN = 7,col=\"violet\",)\n",
        "itemFrequencyPlot(df1, support = 0.1, ,col=\"coral\")"
      ],
      "execution_count": 24,
      "outputs": [
        {
          "output_type": "display_data",
          "data": {
            "image/png": "[encoded data removed]",
            "text/plain": [
              "plot without title"
            ]
          },
          "metadata": {
            "tags": [],
            "image/png": {
              "width": 420,
              "height": 420
            }
          }
        }
      ]
    },
    {
      "cell_type": "markdown",
      "metadata": {
        "id": "zMXqI_gW3dXt",
        "colab_type": "text"
      },
      "source": [
        "Tea is the most frequent item and then followed by wheat, mineral water, fat , yoghurt, fries and lastly frozen food stuffs."
      ]
    },
    {
      "cell_type": "code",
      "metadata": {
        "id": "OGrrzL3CuaB-",
        "colab_type": "code",
        "colab": {
          "base_uri": "https://localhost:8080/",
          "height": 399
        },
        "outputId": "6ff0237c-b111-44e8-a1bd-c4ce5ae1b1f1"
      },
      "source": [
        "# building a model using apriori function and min support 0.001 and confidence 0.8\n",
        "rules <- apriori(df1, parameter = list(supp = 0.001, conf = 0.8))\n",
        "rules\n",
        "\n"
      ],
      "execution_count": 12,
      "outputs": [
        {
          "output_type": "stream",
          "text": [
            "Apriori\n",
            "\n",
            "Parameter specification:\n",
            " confidence minval smax arem  aval originalSupport maxtime support minlen\n",
            "        0.8    0.1    1 none FALSE            TRUE       5   0.001      1\n",
            " maxlen target  ext\n",
            "     10  rules TRUE\n",
            "\n",
            "Algorithmic control:\n",
            " filter tree heap memopt load sort verbose\n",
            "    0.1 TRUE TRUE  FALSE TRUE    2    TRUE\n",
            "\n",
            "Absolute minimum support count: 7 \n",
            "\n",
            "set item appearances ...[0 item(s)] done [0.00s].\n",
            "set transactions ...[5729 item(s), 7501 transaction(s)] done [0.01s].\n",
            "sorting and recoding items ... [354 item(s)] done [0.00s].\n",
            "creating transaction tree ... done [0.00s].\n",
            "checking subsets of size 1 2 3 4 done [0.00s].\n",
            "writing ... [271 rule(s)] done [0.00s].\n",
            "creating S4 object  ... done [0.00s].\n"
          ],
          "name": "stdout"
        },
        {
          "output_type": "display_data",
          "data": {
            "text/plain": [
              "set of 271 rules "
            ]
          },
          "metadata": {
            "tags": []
          }
        }
      ]
    },
    {
      "cell_type": "code",
      "metadata": {
        "id": "ozjAw394uZtK",
        "colab_type": "code",
        "colab": {
          "base_uri": "https://localhost:8080/",
          "height": 381
        },
        "outputId": "553310c9-2d2b-40de-f455-823253447b9b"
      },
      "source": [
        "# Building a apriori model with Min Support as 0.002 and confidence as 0.8.\n",
        "rules2 <- apriori (df1,parameter = list(supp = 0.002, conf = 0.8)) "
      ],
      "execution_count": 13,
      "outputs": [
        {
          "output_type": "stream",
          "text": [
            "Apriori\n",
            "\n",
            "Parameter specification:\n",
            " confidence minval smax arem  aval originalSupport maxtime support minlen\n",
            "        0.8    0.1    1 none FALSE            TRUE       5   0.002      1\n",
            " maxlen target  ext\n",
            "     10  rules TRUE\n",
            "\n",
            "Algorithmic control:\n",
            " filter tree heap memopt load sort verbose\n",
            "    0.1 TRUE TRUE  FALSE TRUE    2    TRUE\n",
            "\n",
            "Absolute minimum support count: 15 \n",
            "\n",
            "set item appearances ...[0 item(s)] done [0.00s].\n",
            "set transactions ...[5729 item(s), 7501 transaction(s)] done [0.01s].\n",
            "sorting and recoding items ... [189 item(s)] done [0.00s].\n",
            "creating transaction tree ... done [0.00s].\n",
            "checking subsets of size 1 2 3 4 done [0.00s].\n",
            "writing ... [99 rule(s)] done [0.00s].\n",
            "creating S4 object  ... done [0.00s].\n"
          ],
          "name": "stdout"
        }
      ]
    },
    {
      "cell_type": "code",
      "metadata": {
        "id": "2eTBDzFo0u7o",
        "colab_type": "code",
        "colab": {
          "base_uri": "https://localhost:8080/",
          "height": 399
        },
        "outputId": "d8428570-0da8-47d6-f958-140f5574a896"
      },
      "source": [
        "# Building apriori model with Min Support as 0.002 and confidence as 0.6.\n",
        "rules3 <- apriori (df1, parameter = list(supp = 0.001, conf = 0.6)) \n",
        "rules3"
      ],
      "execution_count": 14,
      "outputs": [
        {
          "output_type": "stream",
          "text": [
            "Apriori\n",
            "\n",
            "Parameter specification:\n",
            " confidence minval smax arem  aval originalSupport maxtime support minlen\n",
            "        0.6    0.1    1 none FALSE            TRUE       5   0.001      1\n",
            " maxlen target  ext\n",
            "     10  rules TRUE\n",
            "\n",
            "Algorithmic control:\n",
            " filter tree heap memopt load sort verbose\n",
            "    0.1 TRUE TRUE  FALSE TRUE    2    TRUE\n",
            "\n",
            "Absolute minimum support count: 7 \n",
            "\n",
            "set item appearances ...[0 item(s)] done [0.00s].\n",
            "set transactions ...[5729 item(s), 7501 transaction(s)] done [0.01s].\n",
            "sorting and recoding items ... [354 item(s)] done [0.00s].\n",
            "creating transaction tree ... done [0.00s].\n",
            "checking subsets of size 1 2 3 4 done [0.00s].\n",
            "writing ... [319 rule(s)] done [0.00s].\n",
            "creating S4 object  ... done [0.00s].\n"
          ],
          "name": "stdout"
        },
        {
          "output_type": "display_data",
          "data": {
            "text/plain": [
              "set of 319 rules "
            ]
          },
          "metadata": {
            "tags": []
          }
        }
      ]
    },
    {
      "cell_type": "code",
      "metadata": {
        "id": "iQevPIZc0vI0",
        "colab_type": "code",
        "colab": {
          "base_uri": "https://localhost:8080/",
          "height": 503
        },
        "outputId": "703e3c65-03f4-4feb-8bcd-c260c7cfdb69"
      },
      "source": [
        "# previewing a summary of our rules\n",
        "summary(rules)"
      ],
      "execution_count": 15,
      "outputs": [
        {
          "output_type": "display_data",
          "data": {
            "text/plain": [
              "set of 396074 rules\n",
              "\n",
              "rule length distribution (lhs + rhs):sizes\n",
              "    2     3     4     5     6     7     8     9    10 \n",
              "   74  1620  9314 29384 60048 86503 91722 73163 44246 \n",
              "\n",
              "   Min. 1st Qu.  Median    Mean 3rd Qu.    Max. \n",
              "  2.000   6.000   8.000   7.548   9.000  10.000 \n",
              "\n",
              "summary of quality measures:\n",
              "    support           confidence        coverage             lift        \n",
              " Min.   :0.008547   Min.   :0.8000   Min.   :0.008547   Min.   :  1.534  \n",
              " 1st Qu.:0.008547   1st Qu.:1.0000   1st Qu.:0.008547   1st Qu.:  3.079  \n",
              " Median :0.008547   Median :1.0000   Median :0.008547   Median :  4.875  \n",
              " Mean   :0.009065   Mean   :0.9996   Mean   :0.009088   Mean   : 13.142  \n",
              " 3rd Qu.:0.008547   3rd Qu.:1.0000   3rd Qu.:0.008547   3rd Qu.:  9.750  \n",
              " Max.   :0.299145   Max.   :1.0000   Max.   :0.350427   Max.   :117.000  \n",
              "     count       \n",
              " Min.   : 1.000  \n",
              " 1st Qu.: 1.000  \n",
              " Median : 1.000  \n",
              " Mean   : 1.061  \n",
              " 3rd Qu.: 1.000  \n",
              " Max.   :35.000  \n",
              "\n",
              "mining info:\n",
              "        data ntransactions support confidence\n",
              " df1[, 1:30]           117   0.001        0.8"
            ]
          },
          "metadata": {
            "tags": []
          }
        }
      ]
    },
    {
      "cell_type": "code",
      "metadata": {
        "id": "paWdaJlb0vPY",
        "colab_type": "code",
        "colab": {
          "base_uri": "https://localhost:8080/",
          "height": 225
        },
        "outputId": "c8a87bb6-8782-4546-e521-3ed20af75860"
      },
      "source": [
        "# inspecting the first 5 rules built by our model\n",
        "inspect(rules[1:5])"
      ],
      "execution_count": 15,
      "outputs": [
        {
          "output_type": "stream",
          "text": [
            "    lhs                                rhs      support     confidence\n",
            "[1] {cookies,low}                   => {yogurt} 0.001066524 1         \n",
            "[2] {cookies,low}                   => {fat}    0.001066524 1         \n",
            "[3] {extra}                         => {dark}   0.001066524 1         \n",
            "[4] {burgers,whole}                 => {wheat}  0.001199840 1         \n",
            "[5] {fries,escalope,pasta,mushroom} => {cream}  0.001066524 1         \n",
            "    coverage    lift     count\n",
            "[1] 0.001066524 13.81400 8    \n",
            "[2] 0.001066524 13.06794 8    \n",
            "[3] 0.001066524 83.34444 8    \n",
            "[4] 0.001199840 11.62946 9    \n",
            "[5] 0.001066524 47.77707 8    \n"
          ],
          "name": "stdout"
        }
      ]
    },
    {
      "cell_type": "code",
      "metadata": {
        "id": "NbamKIF64j4C",
        "colab_type": "code",
        "colab": {
          "base_uri": "https://localhost:8080/",
          "height": 225
        },
        "outputId": "75d4f390-d6cd-4ce0-f4ad-4d6b126ca7ac"
      },
      "source": [
        "# sorting the rules in decreasing order of confidence\n",
        "rules <- sort(rules, by = \"confidence\", decreasing = TRUE)\n",
        "inspect(rules[1:5])"
      ],
      "execution_count": 16,
      "outputs": [
        {
          "output_type": "stream",
          "text": [
            "    lhs                                rhs      support     confidence\n",
            "[1] {cookies,low}                   => {yogurt} 0.001066524 1         \n",
            "[2] {cookies,low}                   => {fat}    0.001066524 1         \n",
            "[3] {extra}                         => {dark}   0.001066524 1         \n",
            "[4] {burgers,whole}                 => {wheat}  0.001199840 1         \n",
            "[5] {fries,escalope,pasta,mushroom} => {cream}  0.001066524 1         \n",
            "    coverage    lift     count\n",
            "[1] 0.001066524 13.81400 8    \n",
            "[2] 0.001066524 13.06794 8    \n",
            "[3] 0.001066524 83.34444 8    \n",
            "[4] 0.001199840 11.62946 9    \n",
            "[5] 0.001066524 47.77707 8    \n"
          ],
          "name": "stdout"
        }
      ]
    },
    {
      "cell_type": "markdown",
      "metadata": {
        "id": "mlfc678Q7WPa",
        "colab_type": "text"
      },
      "source": [
        "The given five rules have a confidence of 100."
      ]
    },
    {
      "cell_type": "code",
      "metadata": {
        "id": "z_cnvemBpxmN",
        "colab_type": "code",
        "colab": {
          "base_uri": "https://localhost:8080/",
          "height": 225
        },
        "outputId": "e0366552-baa7-471b-ca67-15f78b223f45"
      },
      "source": [
        "# If we're interested in making a promotion relating to the sale of yogurt, \n",
        "# we could create a subset of rules concerning these products \n",
        "# ---\n",
        "# This would tell us the items that the customers bought before purchasing yogurt\n",
        "\n",
        "yogurt <- subset(rules, subset = rhs %pin% \"yogurt\")\n",
        " \n",
        "# Then order by confidence\n",
        "yogurt<-sort(yogurt, by=\"confidence\", decreasing=TRUE)\n",
        "inspect(yogurt[1:5])"
      ],
      "execution_count": 18,
      "outputs": [
        {
          "output_type": "stream",
          "text": [
            "    lhs                  rhs      support     confidence coverage    lift  \n",
            "[1] {cookies,low}     => {yogurt} 0.001066524 1          0.001066524 13.814\n",
            "[2] {wine,low}        => {yogurt} 0.001333156 1          0.001333156 13.814\n",
            "[3] {cheese,low}      => {yogurt} 0.001733102 1          0.001733102 13.814\n",
            "[4] {mayo,low}        => {yogurt} 0.001733102 1          0.001733102 13.814\n",
            "[5] {cookies,low,fat} => {yogurt} 0.001066524 1          0.001066524 13.814\n",
            "    count\n",
            "[1]  8   \n",
            "[2] 10   \n",
            "[3] 13   \n",
            "[4] 13   \n",
            "[5]  8   \n"
          ],
          "name": "stdout"
        }
      ]
    },
    {
      "cell_type": "code",
      "metadata": {
        "id": "yDeHYbnI7aeL",
        "colab_type": "code",
        "colab": {
          "base_uri": "https://localhost:8080/",
          "height": 433
        },
        "outputId": "cc05d456-a0b0-40ad-efe3-3f9b4fe3e862"
      },
      "source": [
        "# What if we wanted to determine items that customers might buy \n",
        "# who have previously bought yogurt?\n",
        "# ---\n",
        "# \n",
        "# Subset the rules\n",
        "yogurt <- subset(rules2, subset = lhs %pin% \"yogurt\")\n",
        "\n",
        "# Order by confidence\n",
        "yogurt<-sort(yogurt, by=\"confidence\", decreasing=TRUE)\n",
        "\n",
        "# inspect top 5\n",
        "inspect(yogurt[9:19])"
      ],
      "execution_count": 17,
      "outputs": [
        {
          "output_type": "stream",
          "text": [
            "     lhs                           rhs   support     confidence coverage   \n",
            "[1]  {vegetables,ground,yogurt} => {fat} 0.002133049 1          0.002133049\n",
            "[2]  {beef,mineral,yogurt}      => {fat} 0.002133049 1          0.002133049\n",
            "[3]  {herb,yogurt}              => {&}   0.002799627 1          0.002799627\n",
            "[4]  {herb,yogurt}              => {fat} 0.002799627 1          0.002799627\n",
            "[5]  {grated,yogurt}            => {fat} 0.003466205 1          0.003466205\n",
            "[6]  {frozen,yogurt}            => {fat} 0.004799360 1          0.004799360\n",
            "[7]  {mineral,yogurt}           => {fat} 0.007732302 1          0.007732302\n",
            "[8]  {&,yogurt}                 => {fat} 0.005199307 1          0.005199307\n",
            "[9]  {wheat,yogurt}             => {fat} 0.006932409 1          0.006932409\n",
            "[10] {&,herb,yogurt}            => {fat} 0.002799627 1          0.002799627\n",
            "[11] {fat,herb,yogurt}          => {&}   0.002799627 1          0.002799627\n",
            "     lift     count\n",
            "[1]  13.06794 16   \n",
            "[2]  13.06794 16   \n",
            "[3]  20.21833 21   \n",
            "[4]  13.06794 21   \n",
            "[5]  13.06794 26   \n",
            "[6]  13.06794 36   \n",
            "[7]  13.06794 58   \n",
            "[8]  13.06794 39   \n",
            "[9]  13.06794 52   \n",
            "[10] 13.06794 21   \n",
            "[11] 20.21833 21   \n"
          ],
          "name": "stdout"
        }
      ]
    },
    {
      "cell_type": "markdown",
      "metadata": {
        "id": "wNqrGFxDFkNV",
        "colab_type": "text"
      },
      "source": [
        "#Conclusion\n",
        " We can see that the frequently bought together with low fat yourghut are\n",
        "tea is the most frequent item and then followed by wheat, mineral water, fat , yoghurt, fries and lastly frozen food stuffs.\n",
        "We have also seen that customers  who have previously bought yogurt may also purchase vegetables,ground,beef,mineral water,herbs, fat and wheat together with yoghurt.        \n",
        "           \n"
      ]
    }
  ]
}